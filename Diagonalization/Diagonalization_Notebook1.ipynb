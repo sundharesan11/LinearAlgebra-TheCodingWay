{
 "cells": [
  {
   "cell_type": "code",
   "execution_count": null,
   "id": "0b46edfc",
   "metadata": {},
   "outputs": [],
   "source": []
  },
  {
   "cell_type": "code",
   "execution_count": null,
   "id": "082792b2",
   "metadata": {},
   "outputs": [],
   "source": []
  },
  {
   "cell_type": "code",
   "execution_count": 2,
   "id": "08ab49cd",
   "metadata": {},
   "outputs": [],
   "source": [
    "import numpy as np\n",
    "\n",
    "D = np.array([[3, 0],\n",
    "            [0, 6]])"
   ]
  },
  {
   "cell_type": "code",
   "execution_count": 8,
   "id": "c56ce87d",
   "metadata": {},
   "outputs": [],
   "source": [
    "def mat_mul(a, b):\n",
    "    if len(a[0]) != len(b):\n",
    "        return \"Matrix multiplication can't be done!\"\n",
    "    else:\n",
    "        res = np.zeros((len(a), len(b[0])))\n",
    "        for i in range(len(a)):\n",
    "            for j in range(len(b[0])):\n",
    "                for k in range(len(b)):\n",
    "                    res[i, j] += a[i][k] * b[k][j]\n",
    "        return res                    "
   ]
  },
  {
   "cell_type": "code",
   "execution_count": 9,
   "id": "523543af",
   "metadata": {},
   "outputs": [
    {
     "data": {
      "text/plain": [
       "array([[ 9.,  0.],\n",
       "       [ 0., 36.]])"
      ]
     },
     "execution_count": 9,
     "metadata": {},
     "output_type": "execute_result"
    }
   ],
   "source": [
    "mat_mul(D, D)"
   ]
  },
  {
   "cell_type": "code",
   "execution_count": 10,
   "id": "600cc3e3",
   "metadata": {},
   "outputs": [
    {
     "name": "stdout",
     "output_type": "stream",
     "text": [
      "e1: [1 0]\n",
      "e2: [0 1]\n"
     ]
    }
   ],
   "source": [
    "e1 = np.array([1,0]) #Define e1\n",
    "e2 = np.array([0,1]) #Define e2\n",
    "print(\"e1:\",e1)\n",
    "print(\"e2:\",e2)"
   ]
  },
  {
   "cell_type": "code",
   "execution_count": 11,
   "id": "36a245f4",
   "metadata": {},
   "outputs": [],
   "source": [
    "def mat_vec_mul(matrix, vector):\n",
    "    if len(matrix[0]) != len(vector):\n",
    "        return \"Matrix and vector multiplication can't be done!\"\n",
    "    else:\n",
    "        result = [0] * len(matrix)\n",
    "        \n",
    "        for i in range(len(matrix)):\n",
    "            for j in range(len(vector)):\n",
    "                result[i] += matrix[i][j] * vector[j]\n",
    "        \n",
    "        return result"
   ]
  },
  {
   "cell_type": "code",
   "execution_count": 14,
   "id": "8346c7f0",
   "metadata": {},
   "outputs": [
    {
     "data": {
      "text/plain": [
       "[3, 0]"
      ]
     },
     "execution_count": 14,
     "metadata": {},
     "output_type": "execute_result"
    }
   ],
   "source": [
    "mat_vec_mul(D, e1)"
   ]
  },
  {
   "cell_type": "code",
   "execution_count": 15,
   "id": "2aac2a56",
   "metadata": {},
   "outputs": [
    {
     "data": {
      "text/plain": [
       "[0, 6]"
      ]
     },
     "execution_count": 15,
     "metadata": {},
     "output_type": "execute_result"
    }
   ],
   "source": [
    "mat_vec_mul(D, e2)"
   ]
  },
  {
   "cell_type": "code",
   "execution_count": 36,
   "id": "32280df0",
   "metadata": {},
   "outputs": [
    {
     "data": {
      "image/png": "[encoded data removed]",
      "text/plain": [
       "<Figure size 640x480 with 1 Axes>"
      ]
     },
     "metadata": {},
     "output_type": "display_data"
    }
   ],
   "source": [
    "import matplotlib.pyplot as plt\n",
    "\n",
    "plt.figure()\n",
    "\n",
    "plt.quiver(0, 0, e1[0], e1[1], angles='xy', scale_units='xy', scale=1, color='r')\n",
    "plt.text(e1[0], e1[1]+0.3, 'e1', fontsize=8, ha='right', color='r')\n",
    "\n",
    "plt.quiver(0, 0, e2[0], e2[1], angles='xy', scale_units='xy', scale=1, color='b')\n",
    "plt.text(e2[0], e2[1]+0.3, 'e2', fontsize=8, ha='right', color='b')\n",
    "\n",
    "plt.xlim(-1, 8)\n",
    "plt.ylim(-1, 8)\n",
    "\n",
    "plt.grid()\n",
    "plt.xlabel('X-axis')\n",
    "plt.ylabel('Y-axis')\n",
    "plt.title('Plot of e1 and e2 vectors')\n",
    "\n",
    "plt.gca().set_aspect('equal', adjustable='box')\n",
    "\n",
    "plt.show()\n"
   ]
  },
  {
   "cell_type": "code",
   "execution_count": null,
   "id": "57029809",
   "metadata": {},
   "outputs": [],
   "source": []
  },
  {
   "cell_type": "code",
   "execution_count": null,
   "id": "b378abaa",
   "metadata": {},
   "outputs": [],
   "source": []
  },
  {
   "cell_type": "code",
   "execution_count": 37,
   "id": "023a82b0",
   "metadata": {},
   "outputs": [],
   "source": [
    "De1 = mat_vec_mul(D, e1)\n",
    "De2 = mat_vec_mul(D, e2)"
   ]
  },
  {
   "cell_type": "code",
   "execution_count": 39,
   "id": "1ee3fd22",
   "metadata": {},
   "outputs": [
    {
     "data": {
      "image/png": "[encoded data removed]",
      "text/plain": [
       "<Figure size 640x480 with 1 Axes>"
      ]
     },
     "metadata": {},
     "output_type": "display_data"
    }
   ],
   "source": [
    "import matplotlib.pyplot as plt\n",
    "\n",
    "plt.figure()\n",
    "\n",
    "plt.quiver(0, 0, De1[0], De1[1], angles='xy', scale_units='xy', scale=1, color='r')\n",
    "plt.text(e1[0], De1[1]+0.3, 'De1', fontsize=8, ha='right', color='r')\n",
    "\n",
    "plt.quiver(0, 0, De2[0], De2[1], angles='xy', scale_units='xy', scale=1, color='b')\n",
    "plt.text(De2[0], De2[1]+0.3, 'De2', fontsize=8, ha='right', color='b')\n",
    "\n",
    "plt.xlim(-1, 8)\n",
    "plt.ylim(-1, 8)\n",
    "\n",
    "plt.grid()\n",
    "plt.xlabel('X-axis')\n",
    "plt.ylabel('Y-axis')\n",
    "plt.title('Plot of e1 and e2 vectors')\n",
    "\n",
    "plt.gca().set_aspect('equal', adjustable='box')\n",
    "\n",
    "plt.show()\n"
   ]
  },
  {
   "cell_type": "code",
   "execution_count": 40,
   "id": "1e2cfb40",
   "metadata": {},
   "outputs": [],
   "source": [
    "a = np.array([1, 1])\n",
    "Da = mat_vec_mul(D, a)"
   ]
  },
  {
   "cell_type": "code",
   "execution_count": 42,
   "id": "48820f2d",
   "metadata": {},
   "outputs": [
    {
     "data": {
      "image/png": "[encoded data removed]",
      "text/plain": [
       "<Figure size 640x480 with 1 Axes>"
      ]
     },
     "metadata": {},
     "output_type": "display_data"
    }
   ],
   "source": [
    "plt.figure()\n",
    "\n",
    "plt.quiver(0, 0, a[0], a[1], angles='xy', scale_units='xy', scale=1, color='r')\n",
    "plt.text(a[0], a[1]+0.3, 'a', fontsize=8, ha='right', color='r')\n",
    "\n",
    "plt.quiver(0, 0, Da[0], Da[1], angles='xy', scale_units='xy', scale=1, color='b')\n",
    "plt.text(Da[0], Da[1]+0.3, 'Da', fontsize=8, ha='right', color='b')\n",
    "\n",
    "plt.xlim(-1, 10)\n",
    "plt.ylim(-1, 10)\n",
    "\n",
    "plt.grid()\n",
    "plt.xlabel('X-axis')\n",
    "plt.ylabel('Y-axis')\n",
    "plt.title('Plot of e1 and e2 vectors')\n",
    "\n",
    "plt.gca().set_aspect('equal', adjustable='box')\n",
    "\n",
    "plt.show()\n"
   ]
  },
  {
   "cell_type": "code",
   "execution_count": null,
   "id": "d14cf29b",
   "metadata": {},
   "outputs": [],
   "source": []
  }
 ],
 "metadata": {
  "kernelspec": {
   "display_name": "Python 3 (ipykernel)",
   "language": "python",
   "name": "python3"
  },
  "language_info": {
   "codemirror_mode": {
    "name": "ipython",
    "version": 3
   },
   "file_extension": ".py",
   "mimetype": "text/x-python",
   "name": "python",
   "nbconvert_exporter": "python",
   "pygments_lexer": "ipython3",
   "version": "3.10.9"
  }
 },
 "nbformat": 4,
 "nbformat_minor": 5
}
